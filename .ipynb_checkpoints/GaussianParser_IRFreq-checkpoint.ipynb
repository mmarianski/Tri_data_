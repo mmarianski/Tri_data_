{
 "cells": [
  {
   "cell_type": "code",
   "execution_count": 1,
   "metadata": {},
   "outputs": [],
   "source": [
    "import os\n",
    "from os.path import join\n",
    "import re\n",
    "import pandas as pd"
   ]
  },
  {
   "cell_type": "code",
   "execution_count": null,
   "metadata": {},
   "outputs": [
    {
     "name": "stdout",
     "output_type": "stream",
     "text": [
      "\n",
      "./Tri_A154_ga09\n",
      "File Done!\n",
      "FIR_df contains :6888 rows\n",
      "\n",
      "./Tri_A154_ga01\n",
      "File Done!\n",
      "FIR_df contains :13776 rows\n",
      "\n",
      "./Tri_A154_ga07\n"
     ]
    }
   ],
   "source": [
    "#creating columns for a dataframe\n",
    "l = ['Molecule', 'Freq. A', 'Freq. B','Freq. C', 'IR Int. A', 'IR Int. B', 'IR Int. C', 'Atom', 'AN', 'X1','Y1','Z1', \n",
    "    'X2','Y2','Z2', 'X3','Y3','Z3']\n",
    "#creating an empty df\n",
    "FIR_df = pd.DataFrame(columns=l)\n",
    "\n",
    "for (dirname, dirs, files) in os.walk('.'):      #'.' indicates to start in the current directory and walk downwards\n",
    "    \n",
    "    for filename in files:                       #looping through files in a directory\n",
    "        #getting the path and folder name\n",
    "        dirpath = os.getcwd()\n",
    "        #print(\"current directory is : \" + dirpath)\n",
    "        foldername = os.path.basename(dirpath)\n",
    "        #print(\"Directory name is : \" + foldername)\n",
    "        \n",
    "        if filename.endswith('.log'):            #choosing only log files\n",
    "            #reading file     \n",
    "            file = open(os.path.join(dirname, filename), \"r\")\n",
    "            #print(3)\n",
    "            print('')                            #line to use as a process probe\n",
    "            print(str(dirname))                  #line to use as a process probe\n",
    "\n",
    "            #a flag for boolean decision; will help to identify sections\n",
    "            section_flag = False\n",
    "        \n",
    "            for line in file:                              #parsing lines in a log file\n",
    "                #print(4)\n",
    "                if re.search('^ Frequencies', line):       #processing Frequencies line \n",
    "                    #print('Freq located')\n",
    "                    freq_line = line.strip()                 #strip line\n",
    "                    freq_line = freq_line.split()            #splitting the line\n",
    "                    freq_line.insert(2, str(dirname[2:]))\n",
    "                    #print(freq_line)\n",
    "                \n",
    "                elif re.search('^ IR Inten', line):        #processing IR line\n",
    "                    #print('IR located')\n",
    "                    ir_line = line.strip()                   #strip line\n",
    "                    ir_line = ir_line.split()                #splitting the line\n",
    "                    #print(ir_line)\n",
    "                \n",
    "                elif re.search('^  Atom', line):           #locating Atom lines\n",
    "                    #print('Atom located')\n",
    "                    section_flag = True                    #changing the flag, ie, this are valid lines\n",
    "                    \n",
    "                elif re.search('^\\s*.\\d\\s\\s\\s\\d', line) and section_flag == True:    #selecting lines with coordinates\n",
    "                    #print('Coords located')\n",
    "                    #print(line)\n",
    "                    ser = pd.Series(freq_line[2:]+ir_line[3:]+line.split(), index=l)  #create a pd.Series object...\n",
    "                    FIR_df = FIR_df.append(ser, ignore_index=True)   #adding the object as row to the dataframe\n",
    "                \n",
    "                else:\n",
    "                    section_flag = False                   #failing in any of the other lines, implies invalid line\n",
    "                    if re.search('^ - Thermochemistry', line):   #this line tells us the corrdinates are over, no need to parse more\n",
    "                        break\n",
    "            file.close()                                   #closing the file\n",
    "            print('File Done!')\n",
    "            print('FIR_df contains :'+str(len(FIR_df))+' rows')\n",
    "        else:\n",
    "            pass"
   ]
  },
  {
   "cell_type": "code",
   "execution_count": null,
   "metadata": {},
   "outputs": [],
   "source": [
    "len(FIR_df)"
   ]
  },
  {
   "cell_type": "code",
   "execution_count": null,
   "metadata": {},
   "outputs": [],
   "source": [
    "FIR_df"
   ]
  },
  {
   "cell_type": "code",
   "execution_count": null,
   "metadata": {},
   "outputs": [],
   "source": [
    "FIR_df = FIR_df.iloc[:130871]"
   ]
  },
  {
   "cell_type": "code",
   "execution_count": null,
   "metadata": {},
   "outputs": [],
   "source": [
    "len(FIR_df)"
   ]
  },
  {
   "cell_type": "code",
   "execution_count": null,
   "metadata": {},
   "outputs": [],
   "source": [
    "FIR_df.to_csv('DF1.csv')"
   ]
  },
  {
   "cell_type": "code",
   "execution_count": null,
   "metadata": {},
   "outputs": [],
   "source": []
  }
 ],
 "metadata": {
  "kernelspec": {
   "display_name": "Python 2",
   "language": "python",
   "name": "python2"
  },
  "language_info": {
   "codemirror_mode": {
    "name": "ipython",
    "version": 2
   },
   "file_extension": ".py",
   "mimetype": "text/x-python",
   "name": "python",
   "nbconvert_exporter": "python",
   "pygments_lexer": "ipython2",
   "version": "2.7.15"
  }
 },
 "nbformat": 4,
 "nbformat_minor": 2
}
